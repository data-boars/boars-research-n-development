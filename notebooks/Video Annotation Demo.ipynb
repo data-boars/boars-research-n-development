{
 "cells": [
  {
   "cell_type": "code",
   "execution_count": 1,
   "metadata": {},
   "outputs": [],
   "source": [
    "import os\n",
    "os.chdir('..')"
   ]
  },
  {
   "cell_type": "code",
   "execution_count": 10,
   "metadata": {},
   "outputs": [],
   "source": [
    "import cv2\n",
    "import numpy as np\n",
    "import pandas as pd\n",
    "from datetime import datetime, timedelta\n",
    "import tqdm\n",
    "\n",
    "from src.data.arma import (load_video_frames,\n",
    "                           convert_annotation_boar_points_to_np_arrays, \n",
    "                           prepare_referential_timeseries_df,\n",
    "                           merge_annotation_with_referential_time_df,\n",
    "                           interpolate_boar_positions,\n",
    "                           find_bboxes_for_frame,\n",
    "                           find_bboxes_for_video,\n",
    "                           prepare_frames_with_drawings,\n",
    "                           save_video_mp4)"
   ]
  },
  {
   "cell_type": "code",
   "execution_count": 14,
   "metadata": {},
   "outputs": [
    {
     "data": {
      "text/html": [
       "<div>\n",
       "<style scoped>\n",
       "    .dataframe tbody tr th:only-of-type {\n",
       "        vertical-align: middle;\n",
       "    }\n",
       "\n",
       "    .dataframe tbody tr th {\n",
       "        vertical-align: top;\n",
       "    }\n",
       "\n",
       "    .dataframe thead th {\n",
       "        text-align: right;\n",
       "    }\n",
       "</style>\n",
       "<table border=\"1\" class=\"dataframe\">\n",
       "  <thead>\n",
       "    <tr style=\"text-align: right;\">\n",
       "      <th></th>\n",
       "      <th>timestamp</th>\n",
       "      <th>frame</th>\n",
       "      <th>objects</th>\n",
       "    </tr>\n",
       "  </thead>\n",
       "  <tbody>\n",
       "    <tr>\n",
       "      <th>0</th>\n",
       "      <td>2018-12-10 16:22:04</td>\n",
       "      <td>1</td>\n",
       "      <td>[[454.903, -21.7134], [476.824, -9.25929], [49...</td>\n",
       "    </tr>\n",
       "    <tr>\n",
       "      <th>1</th>\n",
       "      <td>2018-12-10 16:22:04</td>\n",
       "      <td>2</td>\n",
       "      <td>[[454.901, -17.7646], [476.782, -5.20606], [49...</td>\n",
       "    </tr>\n",
       "    <tr>\n",
       "      <th>2</th>\n",
       "      <td>2018-12-10 16:22:04</td>\n",
       "      <td>3</td>\n",
       "      <td>[[454.902, -19.3441], [476.782, -6.78994], [49...</td>\n",
       "    </tr>\n",
       "    <tr>\n",
       "      <th>3</th>\n",
       "      <td>2018-12-10 16:22:04</td>\n",
       "      <td>12</td>\n",
       "      <td>[[454.903, -22.5032], [476.828, -10.2306], [49...</td>\n",
       "    </tr>\n",
       "    <tr>\n",
       "      <th>4</th>\n",
       "      <td>2018-12-10 16:22:04</td>\n",
       "      <td>14</td>\n",
       "      <td>[[454.902, -20.9236], [476.824, -8.46759], [49...</td>\n",
       "    </tr>\n",
       "  </tbody>\n",
       "</table>\n",
       "</div>"
      ],
      "text/plain": [
       "            timestamp  frame  \\\n",
       "0 2018-12-10 16:22:04      1   \n",
       "1 2018-12-10 16:22:04      2   \n",
       "2 2018-12-10 16:22:04      3   \n",
       "3 2018-12-10 16:22:04     12   \n",
       "4 2018-12-10 16:22:04     14   \n",
       "\n",
       "                                             objects  \n",
       "0  [[454.903, -21.7134], [476.824, -9.25929], [49...  \n",
       "1  [[454.901, -17.7646], [476.782, -5.20606], [49...  \n",
       "2  [[454.902, -19.3441], [476.782, -6.78994], [49...  \n",
       "3  [[454.903, -22.5032], [476.828, -10.2306], [49...  \n",
       "4  [[454.902, -20.9236], [476.824, -8.46759], [49...  "
      ]
     },
     "execution_count": 14,
     "metadata": {},
     "output_type": "execute_result"
    }
   ],
   "source": [
    "annot = pd.read_csv('data/arma_generated/20fps_sample/7.csv', parse_dates=['timestamp'])\n",
    "annot = convert_annotation_boar_points_to_np_arrays(annot)\n",
    "annot.head()"
   ]
  },
  {
   "cell_type": "code",
   "execution_count": null,
   "metadata": {},
   "outputs": [],
   "source": [
    "frames = load_video_frames('data/arma_generated/20fps_sample/2018-12-10_16-22-04.mp4')\n",
    "FRAME_RATE = 20\n",
    "len(frames)"
   ]
  },
  {
   "cell_type": "code",
   "execution_count": null,
   "metadata": {},
   "outputs": [],
   "source": [
    "start_time = datetime.strptime('2018-12-10 16:22:04', '%Y-%m-%d %H:%M:%S')\n",
    "duration = timedelta(seconds=int(len(frames)/FRAME_RATE))\n",
    "\n",
    "referential_time_df = prepare_referential_timeseries_df(annot, start_time, duration, FRAME_RATE)\n",
    "referential_time_df.head()"
   ]
  },
  {
   "cell_type": "code",
   "execution_count": 7,
   "metadata": {},
   "outputs": [
    {
     "data": {
      "text/html": [
       "<div>\n",
       "<style scoped>\n",
       "    .dataframe tbody tr th:only-of-type {\n",
       "        vertical-align: middle;\n",
       "    }\n",
       "\n",
       "    .dataframe tbody tr th {\n",
       "        vertical-align: top;\n",
       "    }\n",
       "\n",
       "    .dataframe thead th {\n",
       "        text-align: right;\n",
       "    }\n",
       "</style>\n",
       "<table border=\"1\" class=\"dataframe\">\n",
       "  <thead>\n",
       "    <tr style=\"text-align: right;\">\n",
       "      <th></th>\n",
       "      <th>timestamp</th>\n",
       "      <th>frame</th>\n",
       "      <th>objects</th>\n",
       "    </tr>\n",
       "  </thead>\n",
       "  <tbody>\n",
       "    <tr>\n",
       "      <th>0</th>\n",
       "      <td>2018-12-10 16:22:04</td>\n",
       "      <td>0</td>\n",
       "      <td>NaN</td>\n",
       "    </tr>\n",
       "    <tr>\n",
       "      <th>1</th>\n",
       "      <td>2018-12-10 16:22:04</td>\n",
       "      <td>1</td>\n",
       "      <td>[[454.903, -21.7134], [476.824, -9.25929], [49...</td>\n",
       "    </tr>\n",
       "    <tr>\n",
       "      <th>2</th>\n",
       "      <td>2018-12-10 16:22:04</td>\n",
       "      <td>2</td>\n",
       "      <td>[[454.901, -17.7646], [476.782, -5.20606], [49...</td>\n",
       "    </tr>\n",
       "    <tr>\n",
       "      <th>3</th>\n",
       "      <td>2018-12-10 16:22:04</td>\n",
       "      <td>3</td>\n",
       "      <td>[[454.902, -19.3441], [476.782, -6.78994], [49...</td>\n",
       "    </tr>\n",
       "    <tr>\n",
       "      <th>4</th>\n",
       "      <td>2018-12-10 16:22:04</td>\n",
       "      <td>4</td>\n",
       "      <td>NaN</td>\n",
       "    </tr>\n",
       "  </tbody>\n",
       "</table>\n",
       "</div>"
      ],
      "text/plain": [
       "            timestamp  frame  \\\n",
       "0 2018-12-10 16:22:04      0   \n",
       "1 2018-12-10 16:22:04      1   \n",
       "2 2018-12-10 16:22:04      2   \n",
       "3 2018-12-10 16:22:04      3   \n",
       "4 2018-12-10 16:22:04      4   \n",
       "\n",
       "                                             objects  \n",
       "0                                                NaN  \n",
       "1  [[454.903, -21.7134], [476.824, -9.25929], [49...  \n",
       "2  [[454.901, -17.7646], [476.782, -5.20606], [49...  \n",
       "3  [[454.902, -19.3441], [476.782, -6.78994], [49...  \n",
       "4                                                NaN  "
      ]
     },
     "execution_count": 7,
     "metadata": {},
     "output_type": "execute_result"
    }
   ],
   "source": [
    "annotation = merge_annotation_with_referential_time_df(annot, referential_time_df)\n",
    "annotation.head()"
   ]
  },
  {
   "cell_type": "code",
   "execution_count": 8,
   "metadata": {},
   "outputs": [
    {
     "data": {
      "text/html": [
       "<div>\n",
       "<style scoped>\n",
       "    .dataframe tbody tr th:only-of-type {\n",
       "        vertical-align: middle;\n",
       "    }\n",
       "\n",
       "    .dataframe tbody tr th {\n",
       "        vertical-align: top;\n",
       "    }\n",
       "\n",
       "    .dataframe thead th {\n",
       "        text-align: right;\n",
       "    }\n",
       "</style>\n",
       "<table border=\"1\" class=\"dataframe\">\n",
       "  <thead>\n",
       "    <tr style=\"text-align: right;\">\n",
       "      <th></th>\n",
       "      <th>timestamp</th>\n",
       "      <th>frame</th>\n",
       "      <th>objects</th>\n",
       "    </tr>\n",
       "  </thead>\n",
       "  <tbody>\n",
       "    <tr>\n",
       "      <th>0</th>\n",
       "      <td>2018-12-10 16:22:04</td>\n",
       "      <td>0</td>\n",
       "      <td>[[454.903, -21.7134], [476.824, -9.25929], [49...</td>\n",
       "    </tr>\n",
       "    <tr>\n",
       "      <th>1</th>\n",
       "      <td>2018-12-10 16:22:04</td>\n",
       "      <td>1</td>\n",
       "      <td>[[454.903, -21.7134], [476.824, -9.25929], [49...</td>\n",
       "    </tr>\n",
       "    <tr>\n",
       "      <th>2</th>\n",
       "      <td>2018-12-10 16:22:04</td>\n",
       "      <td>2</td>\n",
       "      <td>[[454.901, -17.7646], [476.782, -5.20606], [49...</td>\n",
       "    </tr>\n",
       "    <tr>\n",
       "      <th>3</th>\n",
       "      <td>2018-12-10 16:22:04</td>\n",
       "      <td>3</td>\n",
       "      <td>[[454.902, -19.3441], [476.782, -6.78994], [49...</td>\n",
       "    </tr>\n",
       "    <tr>\n",
       "      <th>4</th>\n",
       "      <td>2018-12-10 16:22:04</td>\n",
       "      <td>4</td>\n",
       "      <td>[[454.902, -19.3441], [476.782, -6.78994], [49...</td>\n",
       "    </tr>\n",
       "  </tbody>\n",
       "</table>\n",
       "</div>"
      ],
      "text/plain": [
       "            timestamp  frame  \\\n",
       "0 2018-12-10 16:22:04      0   \n",
       "1 2018-12-10 16:22:04      1   \n",
       "2 2018-12-10 16:22:04      2   \n",
       "3 2018-12-10 16:22:04      3   \n",
       "4 2018-12-10 16:22:04      4   \n",
       "\n",
       "                                             objects  \n",
       "0  [[454.903, -21.7134], [476.824, -9.25929], [49...  \n",
       "1  [[454.903, -21.7134], [476.824, -9.25929], [49...  \n",
       "2  [[454.901, -17.7646], [476.782, -5.20606], [49...  \n",
       "3  [[454.902, -19.3441], [476.782, -6.78994], [49...  \n",
       "4  [[454.902, -19.3441], [476.782, -6.78994], [49...  "
      ]
     },
     "execution_count": 8,
     "metadata": {},
     "output_type": "execute_result"
    }
   ],
   "source": [
    "annotation['objects'] = interpolate_boar_positions(annotation['objects'])\n",
    "annotation.head()"
   ]
  },
  {
   "cell_type": "code",
   "execution_count": 11,
   "metadata": {},
   "outputs": [
    {
     "data": {
      "application/vnd.jupyter.widget-view+json": {
       "model_id": "5fd2de78f65c415fb04f3945a141df60",
       "version_major": 2,
       "version_minor": 0
      },
      "text/plain": [
       "HBox(children=(IntProgress(value=0, max=1638), HTML(value='')))"
      ]
     },
     "metadata": {},
     "output_type": "display_data"
    },
    {
     "name": "stdout",
     "output_type": "stream",
     "text": [
      "\n"
     ]
    }
   ],
   "source": [
    "annotation = find_bboxes_for_video(frames, annotation, progressbar=tqdm.tqdm_notebook)"
   ]
  },
  {
   "cell_type": "code",
   "execution_count": 12,
   "metadata": {},
   "outputs": [
    {
     "data": {
      "application/vnd.jupyter.widget-view+json": {
       "model_id": "24e5bbc7964c469ea5c8b7bc3bb62a2f",
       "version_major": 2,
       "version_minor": 0
      },
      "text/plain": [
       "HBox(children=(IntProgress(value=0, max=1638), HTML(value='')))"
      ]
     },
     "metadata": {},
     "output_type": "display_data"
    },
    {
     "name": "stdout",
     "output_type": "stream",
     "text": [
      "\n"
     ]
    }
   ],
   "source": [
    "annotated_frames = prepare_frames_with_drawings(frames, annotation, progressbar=tqdm.tqdm_notebook)"
   ]
  },
  {
   "cell_type": "code",
   "execution_count": 13,
   "metadata": {},
   "outputs": [],
   "source": [
    "save_video_mp4(annotated_frames, 'temp.mp4')"
   ]
  }
 ],
 "metadata": {
  "kernelspec": {
   "display_name": "Python 3",
   "language": "python",
   "name": "python3"
  },
  "language_info": {
   "codemirror_mode": {
    "name": "ipython",
    "version": 3
   },
   "file_extension": ".py",
   "mimetype": "text/x-python",
   "name": "python",
   "nbconvert_exporter": "python",
   "pygments_lexer": "ipython3",
   "version": "3.6.5"
  },
  "toc": {
   "base_numbering": 1,
   "nav_menu": {},
   "number_sections": false,
   "sideBar": false,
   "skip_h1_title": false,
   "title_cell": "Table of Contents",
   "title_sidebar": "Contents",
   "toc_cell": false,
   "toc_position": {},
   "toc_section_display": false,
   "toc_window_display": false
  }
 },
 "nbformat": 4,
 "nbformat_minor": 2
}
